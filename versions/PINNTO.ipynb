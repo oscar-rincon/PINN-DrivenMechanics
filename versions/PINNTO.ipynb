{
 "cells": [
  {
   "cell_type": "code",
   "execution_count": 5,
   "id": "c21cda0e",
   "metadata": {},
   "outputs": [],
   "source": [
    "import numpy as np\n",
    "from numpy.lib.stride_tricks import as_strided\n",
    "import torch\n",
    "import torch.nn as nn\n",
    "import matplotlib.pyplot as plt \n",
    "import scipy.io as sio\n",
    "from scipy.sparse import coo_matrix\n",
    "from scipy.sparse.linalg import spsolve\n",
    "from scipy import ndimage, misc\n",
    "import time\n",
    "import os    \n",
    "import random"
   ]
  },
  {
   "cell_type": "code",
   "execution_count": 14,
   "id": "090def7c",
   "metadata": {},
   "outputs": [
    {
     "name": "stdout",
     "output_type": "stream",
     "text": [
      "Pytorch Version: 2.9.0+cu128\n",
      "GPU is available\n"
     ]
    }
   ],
   "source": [
    " \n",
    "os.environ['KMP_DUPLICATE_LIB_OK']='True'\n",
    "#%% Check GPU availability\n",
    "print(f\"Pytorch Version: {torch.__version__}\")\n",
    "print(\"GPU is\", \"available\" if torch.cuda.is_available() else \"NOT AVAILABLE\")\n",
    "device = torch.device(\"cuda\" if torch.cuda.is_available() else \"cpu\")"
   ]
  },
  {
   "cell_type": "code",
   "execution_count": 15,
   "id": "c4d2fac6",
   "metadata": {},
   "outputs": [],
   "source": [
    "#%% set seed\n",
    "\n",
    "manualSeed = 1234\n",
    "torch.backends.cudnn.deterministic = True\n",
    "torch.backends.cudnn.benchmark = False\n",
    "torch.manual_seed(manualSeed)\n",
    "torch.cuda.manual_seed(manualSeed)\n",
    "torch.cuda.manual_seed_all(manualSeed)\n",
    "np.random.seed(manualSeed)\n",
    "random.seed(manualSeed)\n"
   ]
  },
  {
   "cell_type": "code",
   "execution_count": 16,
   "id": "d739980b",
   "metadata": {},
   "outputs": [],
   "source": [
    "def pool2d(A, kernel_size, stride, padding=0, pool_mode='max'):\n",
    "    \"\"\"\n",
    "    Perform a 2D pooling operation (max or average) on a 2D array.\n",
    "\n",
    "    Parameters\n",
    "    ----------\n",
    "    A : ndarray\n",
    "        2D input array to be pooled.\n",
    "    kernel_size : int\n",
    "        Size of the pooling window (assumed square).\n",
    "    stride : int\n",
    "        Step size between successive pooling windows.\n",
    "    padding : int, optional\n",
    "        Number of zero-padding layers added to all sides of `A`. Default is 0.\n",
    "    pool_mode : {'max', 'avg'}, optional\n",
    "        Pooling operation to apply:\n",
    "        - 'max': takes the maximum value in each window.\n",
    "        - 'avg': takes the average value in each window.\n",
    "\n",
    "    Returns\n",
    "    -------\n",
    "    pooled : ndarray\n",
    "        The resulting pooled array of shape \n",
    "        ((A.shape[0] - kernel_size + 2 * padding) // stride + 1,\n",
    "         (A.shape[1] - kernel_size + 2 * padding) // stride + 1).\n",
    "    \"\"\"   \n",
    "    # Padding\n",
    "    A = np.pad(A, padding, mode='constant')\n",
    "\n",
    "    # Window view of A\n",
    "    output_shape = ((A.shape[0] - kernel_size) // stride + 1,\n",
    "                        (A.shape[1] - kernel_size) // stride + 1)\n",
    "        \n",
    "    shape_w = (output_shape[0], output_shape[1], kernel_size, kernel_size)\n",
    "    strides_w = (stride*A.strides[0], stride*A.strides[1], A.strides[0], A.strides[1])\n",
    "        \n",
    "    A_w = as_strided(A, shape_w, strides_w)\n",
    "\n",
    "    # Return the result of pooling\n",
    "    if pool_mode == 'max':\n",
    "        return A_w.max(axis=(2, 3))\n",
    "    elif pool_mode == 'avg':\n",
    "        return A_w.mean(axis=(2, 3))"
   ]
  },
  {
   "cell_type": "code",
   "execution_count": 32,
   "id": "fddbb374",
   "metadata": {},
   "outputs": [],
   "source": [
    "def oc(nelx,nely,x,volfrac,dc,dv,g):\n",
    "\tl1=0\n",
    "\tl2=1e9\n",
    "\tmove=0.2\n",
    "\t# reshape to perform vector operations\n",
    "\txnew=np.zeros(nelx*nely)\n",
    "\twhile (l2-l1)/(l1+l2)>1e-3:\n",
    "\t\tlmid=0.5*(l2+l1)\n",
    "\t\txnew[:]= np.maximum(0.0,np.maximum(x-move,np.minimum(1.0,np.minimum(x+move,x*np.sqrt(-dc/dv/lmid)))))\n",
    "\t\tgt=g+np.sum((dv*(xnew-x)))\n",
    "\t\tif gt>0 :\n",
    "\t\t\tl1=lmid\n",
    "\t\telse:\n",
    "\t\t\tl2=lmid\n",
    "\treturn (xnew,gt)"
   ]
  },
  {
   "cell_type": "code",
   "execution_count": 11,
   "id": "f9923b41",
   "metadata": {},
   "outputs": [],
   "source": [
    "#%% Energy-based PINN neural network\n",
    "class Net(nn.Module):\n",
    "\n",
    "    def __init__(self, n_input, n_output, n_layer, n_nodes):\n",
    "        super(Net, self).__init__()\n",
    "        self.n_layer = n_layer\n",
    "        self.Input = nn.Linear(n_input, n_nodes)   # linear layer\n",
    "        nn.init.xavier_uniform_(self.Input.weight) # wigths and bias initiation\n",
    "        nn.init.normal_(self.Input.bias)\n",
    "        \n",
    "        self.Output = nn.Linear(n_nodes, n_output)\n",
    "        nn.init.xavier_uniform_(self.Output.weight)\n",
    "        nn.init.normal_(self.Output.bias)\n",
    "\n",
    "        self.Hidden = nn.ModuleList() # hidden layer list\n",
    "        for i in range(n_layer):\n",
    "            self.Hidden.append(nn.Linear(n_nodes, n_nodes))\n",
    "        for layer in self.Hidden:\n",
    "            nn.init.xavier_uniform_(layer.weight)\n",
    "            nn.init.normal_(layer.bias)\n",
    "\n",
    "    def forward(self, x):\n",
    "        y = torch.tanh(self.Input(x)) # tanh activation function\n",
    "        for layer in self.Hidden:\n",
    "            y = torch.tanh(layer(y))\n",
    "        y = self.Output(y)\n",
    "        return y"
   ]
  },
  {
   "cell_type": "code",
   "execution_count": 12,
   "id": "3796d1eb",
   "metadata": {},
   "outputs": [],
   "source": [
    "#%% Automatic differentiation\n",
    "def derivative(x, Net, func, order):\n",
    "    \n",
    "    w = Net(x)*func(x).view(-1,1)\n",
    "    \n",
    "    if order == '0':\n",
    "        return w\n",
    "    \n",
    "    else:\n",
    "        dw_xy = torch.autograd.grad(w, x, torch.ones_like(w), \n",
    "                                    retain_graph=True, create_graph=True)\n",
    "        dw_x = dw_xy[0][:,0].view(-1,1)\n",
    "        dw_y = dw_xy[0][:,1].view(-1,1)\n",
    "        \n",
    "        if order == '1':\n",
    "            return w, dw_x, dw_y\n",
    "    \n",
    "        else:\n",
    "            dw_xxy = torch.autograd.grad(dw_x, x, torch.ones_like(dw_x), \n",
    "                                         retain_graph=True, create_graph=True)\n",
    "            dw_xx = dw_xxy[0][:,0].view(-1,1)\n",
    "            dw_xy = dw_xxy[0][:,1].view(-1,1)\n",
    "            dw_yy = torch.autograd.grad(dw_y, x, torch.ones_like(dw_y), retain_graph=True, \n",
    "                                        create_graph=True)[0][:,1].view(-1,1)\n",
    "            return w, dw_x, dw_y, dw_xx, dw_yy, dw_xy"
   ]
  },
  {
   "cell_type": "code",
   "execution_count": 33,
   "id": "23dc831c",
   "metadata": {},
   "outputs": [],
   "source": [
    " \n",
    "# Domain data\n",
    "nelx, nely = 40, 20\n",
    "ndof = 2*(nelx+1)*(nely+1)\n",
    "x, y = np.meshgrid(np.linspace(0,2,nelx + 1), np.linspace(0,1,nely + 1))\n",
    "y = np.flipud(y)\n",
    "data = np.hstack([x.reshape(-1,1, order = 'F'), y.reshape(-1,1, order = 'F')])\n",
    "\n",
    "# for contourf\n",
    "X, Y = np.meshgrid(np.linspace(0,2,nelx), np.linspace(0,1,nely))\n",
    "Y = np.flipud(Y)\n",
    "\n",
    "# find boundary\n",
    "idx_f = np.where((data[:,0]==max(data[:,0])) &  (data[:,1]==0.5))\n",
    "data = torch.tensor(data, dtype=torch.float32, requires_grad=True, device=device)"
   ]
  },
  {
   "cell_type": "code",
   "execution_count": null,
   "id": "df796063",
   "metadata": {},
   "outputs": [],
   "source": []
  }
 ],
 "metadata": {
  "kernelspec": {
   "display_name": "pinn-driven-mechanics-env",
   "language": "python",
   "name": "python3"
  },
  "language_info": {
   "codemirror_mode": {
    "name": "ipython",
    "version": 3
   },
   "file_extension": ".py",
   "mimetype": "text/x-python",
   "name": "python",
   "nbconvert_exporter": "python",
   "pygments_lexer": "ipython3",
   "version": "3.12.3"
  }
 },
 "nbformat": 4,
 "nbformat_minor": 5
}
